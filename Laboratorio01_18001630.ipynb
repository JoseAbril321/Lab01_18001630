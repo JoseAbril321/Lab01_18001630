{
 "cells": [
  {
   "cell_type": "markdown",
   "id": "64b81587-3bcd-4c54-bd2b-b5d606041cce",
   "metadata": {},
   "source": [
    "# Git y Github"
   ]
  },
  {
   "cell_type": "markdown",
   "id": "85e456a5-d330-4855-8944-fe6efae4529c",
   "metadata": {
    "tags": []
   },
   "source": [
    "## ¿Que es Git?"
   ]
  },
  {
   "cell_type": "markdown",
   "id": "0680311e-51de-4aba-b24c-1cb9b5953c7a",
   "metadata": {},
   "source": [
    "En simples palabras: Un software de control de versiones.\n",
    "\n",
    "Siendo mas especifico: Es un software de control de versiones creado por Linus Tirvalds. Actualmente es el software de control y administracion de versiones numero uno en el mundo, el cual permite una facil y rapida forma de organizar el trabajo hecho por los programadores usando una estructura de arbol. \n",
    "Donde el tronco se llama Master y cada programador puede tener acceso a una rama (branch). Cada uno de los branches es una instancia del Master que puede ser modifica al gusto del desarrollador sin afectar al tronco, esto hasta que el la \"rama\" este lista para hacer merge con el \"master\". \n",
    "Esto generalmente se hace atraves de un servidor, asi multiples personas pueden acceder al git desde multiples lugares y el mas famoso es Github.\n",
    "\n",
    "Algunos comandos que uno usa en git son:\n",
    "- *git init*\n",
    "- *git clone [url]*\n",
    "- *git branch [branch-name]*\n",
    "- *git commit -m “[descriptive message]”*\n",
    "- *git diff*"
   ]
  },
  {
   "cell_type": "markdown",
   "id": "0f8d6bdb-5c82-4c8f-bce9-35b2efd49e58",
   "metadata": {},
   "source": [
    "## ¿Que es Github?"
   ]
  },
  {
   "cell_type": "markdown",
   "id": "a9e56895-4d0c-4646-b955-f9e40fa0fcb7",
   "metadata": {
    "tags": []
   },
   "source": [
    "En simples palabras: un sitio web donde guardad tus gits\n",
    "\n",
    "Siendo mas especifico: Es un plataforma de desarrollo la cual perimite a los usuarios compartir, almacenar y trbajar junto con otros desarolladores proyectos de codigo. Esto lo hace por medio de \"repositorios de git\". Estos los almacena Github y tu junto con tus colaboradores pueden descargar versiones, subir versiones, o modificar ya existentes.\n"
   ]
  },
  {
   "cell_type": "markdown",
   "id": "3f98b6ac-fbbd-4161-b696-7e0dd405cc75",
   "metadata": {},
   "source": [
    "## ¿Que son las Magic Cells?"
   ]
  },
  {
   "cell_type": "markdown",
   "id": "5426c524-65c9-4da1-b960-9bce3236ec44",
   "metadata": {},
   "source": [
    "En simples palabras: Una forma de correr lineas de comando en python\n",
    "\n",
    "Siendo mas especifico: Es una manera interactiva y amigable a python de correr lenguaje de comando. Esto un lo puede hacer suando el simbolo de porsentaje \" \\% \" para una sola linea y doble simbolo de porsentaje \" \\%\\% \" para una celda, para que sea una celda extrictamente tiene que estar en la primera linea de la misma. Este solo funciona en IPython, como Jupyter."
   ]
  },
  {
   "cell_type": "code",
   "execution_count": 3,
   "id": "57ec4e8d-2881-4652-bc64-d35ee4adc38f",
   "metadata": {
    "tags": []
   },
   "outputs": [
    {
     "data": {
      "application/json": {
       "cell": {
        "!": "OSMagics",
        "HTML": "Other",
        "SVG": "Other",
        "bash": "Other",
        "capture": "ExecutionMagics",
        "code_wrap": "ExecutionMagics",
        "debug": "ExecutionMagics",
        "file": "Other",
        "html": "DisplayMagics",
        "javascript": "DisplayMagics",
        "js": "DisplayMagics",
        "latex": "DisplayMagics",
        "markdown": "DisplayMagics",
        "perl": "Other",
        "prun": "ExecutionMagics",
        "pypy": "Other",
        "python": "Other",
        "python2": "Other",
        "python3": "Other",
        "ruby": "Other",
        "script": "ScriptMagics",
        "sh": "Other",
        "svg": "DisplayMagics",
        "sx": "OSMagics",
        "system": "OSMagics",
        "time": "ExecutionMagics",
        "timeit": "ExecutionMagics",
        "writefile": "OSMagics"
       },
       "line": {
        "alias": "OSMagics",
        "alias_magic": "BasicMagics",
        "autoawait": "AsyncMagics",
        "autocall": "AutoMagics",
        "automagic": "AutoMagics",
        "autosave": "KernelMagics",
        "bookmark": "OSMagics",
        "cat": "Other",
        "cd": "OSMagics",
        "clear": "KernelMagics",
        "code_wrap": "ExecutionMagics",
        "colors": "BasicMagics",
        "conda": "PackagingMagics",
        "config": "ConfigMagics",
        "connect_info": "KernelMagics",
        "cp": "Other",
        "debug": "ExecutionMagics",
        "dhist": "OSMagics",
        "dirs": "OSMagics",
        "doctest_mode": "BasicMagics",
        "ed": "Other",
        "edit": "KernelMagics",
        "env": "OSMagics",
        "gui": "BasicMagics",
        "hist": "Other",
        "history": "HistoryMagics",
        "killbgscripts": "ScriptMagics",
        "ldir": "Other",
        "less": "KernelMagics",
        "lf": "Other",
        "lk": "Other",
        "ll": "Other",
        "load": "CodeMagics",
        "load_ext": "ExtensionMagics",
        "loadpy": "CodeMagics",
        "logoff": "LoggingMagics",
        "logon": "LoggingMagics",
        "logstart": "LoggingMagics",
        "logstate": "LoggingMagics",
        "logstop": "LoggingMagics",
        "ls": "Other",
        "lsmagic": "BasicMagics",
        "lx": "Other",
        "macro": "ExecutionMagics",
        "magic": "BasicMagics",
        "man": "KernelMagics",
        "matplotlib": "PylabMagics",
        "mkdir": "Other",
        "more": "KernelMagics",
        "mv": "Other",
        "notebook": "BasicMagics",
        "page": "BasicMagics",
        "pastebin": "CodeMagics",
        "pdb": "ExecutionMagics",
        "pdef": "NamespaceMagics",
        "pdoc": "NamespaceMagics",
        "pfile": "NamespaceMagics",
        "pinfo": "NamespaceMagics",
        "pinfo2": "NamespaceMagics",
        "pip": "PackagingMagics",
        "popd": "OSMagics",
        "pprint": "BasicMagics",
        "precision": "BasicMagics",
        "prun": "ExecutionMagics",
        "psearch": "NamespaceMagics",
        "psource": "NamespaceMagics",
        "pushd": "OSMagics",
        "pwd": "OSMagics",
        "pycat": "OSMagics",
        "pylab": "PylabMagics",
        "qtconsole": "KernelMagics",
        "quickref": "BasicMagics",
        "recall": "HistoryMagics",
        "rehashx": "OSMagics",
        "reload_ext": "ExtensionMagics",
        "rep": "Other",
        "rerun": "HistoryMagics",
        "reset": "NamespaceMagics",
        "reset_selective": "NamespaceMagics",
        "rm": "Other",
        "rmdir": "Other",
        "run": "ExecutionMagics",
        "save": "CodeMagics",
        "sc": "OSMagics",
        "set_env": "OSMagics",
        "store": "StoreMagics",
        "sx": "OSMagics",
        "system": "OSMagics",
        "tb": "ExecutionMagics",
        "time": "ExecutionMagics",
        "timeit": "ExecutionMagics",
        "unalias": "OSMagics",
        "unload_ext": "ExtensionMagics",
        "who": "NamespaceMagics",
        "who_ls": "NamespaceMagics",
        "whos": "NamespaceMagics",
        "xdel": "NamespaceMagics",
        "xmode": "BasicMagics"
       }
      },
      "text/plain": [
       "Available line magics:\n",
       "%alias  %alias_magic  %autoawait  %autocall  %automagic  %autosave  %bookmark  %cat  %cd  %clear  %code_wrap  %colors  %conda  %config  %connect_info  %cp  %debug  %dhist  %dirs  %doctest_mode  %ed  %edit  %env  %gui  %hist  %history  %killbgscripts  %ldir  %less  %lf  %lk  %ll  %load  %load_ext  %loadpy  %logoff  %logon  %logstart  %logstate  %logstop  %ls  %lsmagic  %lx  %macro  %magic  %man  %matplotlib  %mkdir  %more  %mv  %notebook  %page  %pastebin  %pdb  %pdef  %pdoc  %pfile  %pinfo  %pinfo2  %pip  %popd  %pprint  %precision  %prun  %psearch  %psource  %pushd  %pwd  %pycat  %pylab  %qtconsole  %quickref  %recall  %rehashx  %reload_ext  %rep  %rerun  %reset  %reset_selective  %rm  %rmdir  %run  %save  %sc  %set_env  %store  %sx  %system  %tb  %time  %timeit  %unalias  %unload_ext  %who  %who_ls  %whos  %xdel  %xmode\n",
       "\n",
       "Available cell magics:\n",
       "%%!  %%HTML  %%SVG  %%bash  %%capture  %%code_wrap  %%debug  %%file  %%html  %%javascript  %%js  %%latex  %%markdown  %%perl  %%prun  %%pypy  %%python  %%python2  %%python3  %%ruby  %%script  %%sh  %%svg  %%sx  %%system  %%time  %%timeit  %%writefile\n",
       "\n",
       "Automagic is ON, % prefix IS NOT needed for line magics."
      ]
     },
     "execution_count": 3,
     "metadata": {},
     "output_type": "execute_result"
    }
   ],
   "source": [
    "%lsmagic"
   ]
  },
  {
   "cell_type": "markdown",
   "id": "0b2e8ede-0265-4c8c-b5ea-d7ee946dddd5",
   "metadata": {
    "tags": []
   },
   "source": [
    "## Fuentes"
   ]
  },
  {
   "cell_type": "markdown",
   "id": "0031c907-421d-4f10-ab99-858d1f65c993",
   "metadata": {
    "tags": []
   },
   "source": [
    "- https://docs.github.com/es/get-started/start-your-journey/about-github-and-git\n",
    "- https://en.wikipedia.org/wiki/GitHub\n",
    "- https://en.wikipedia.org/wiki/Git\n",
    "- https://www.stata.com/python/pystata17/notebook/Magic%20Commands0.html#:~:text=Cell%20magics%20can%20operate%20on,mata%3A%20Execute%20Mata%20code"
   ]
  },
  {
   "cell_type": "code",
   "execution_count": null,
   "id": "1dbeaba5-8cd3-4426-a6c2-8ddc9b6debb8",
   "metadata": {},
   "outputs": [],
   "source": []
  }
 ],
 "metadata": {
  "kernelspec": {
   "display_name": "Python 3 (ipykernel)",
   "language": "python",
   "name": "python3"
  },
  "language_info": {
   "codemirror_mode": {
    "name": "ipython",
    "version": 3
   },
   "file_extension": ".py",
   "mimetype": "text/x-python",
   "name": "python",
   "nbconvert_exporter": "python",
   "pygments_lexer": "ipython3",
   "version": "3.11.5"
  }
 },
 "nbformat": 4,
 "nbformat_minor": 5
}
